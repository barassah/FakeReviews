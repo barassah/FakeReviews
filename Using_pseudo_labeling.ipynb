{
  "metadata": {
    "kernelspec": {
      "display_name": "Python 3",
      "name": "python3"
    },
    "language_info": {
      "name": "python",
      "version": "3.10.16",
      "mimetype": "text/x-python",
      "codemirror_mode": {
        "name": "ipython",
        "version": 3
      },
      "pygments_lexer": "ipython3",
      "nbconvert_exporter": "python",
      "file_extension": ".py"
    },
    "kaggle": {
      "accelerator": "tpu1vmV38",
      "dataSources": [
        {
          "sourceId": 9310045,
          "sourceType": "datasetVersion",
          "datasetId": 2078210
        }
      ],
      "dockerImageVersionId": 30888,
      "isInternetEnabled": true,
      "language": "python",
      "sourceType": "notebook",
      "isGpuEnabled": false
    },
    "colab": {
      "name": "Using pseudo-labeling",
      "provenance": [],
      "gpuType": "T4",
      "include_colab_link": true
    },
    "accelerator": "GPU"
  },
  "nbformat_minor": 0,
  "nbformat": 4,
  "cells": [
    {
      "cell_type": "markdown",
      "metadata": {
        "id": "view-in-github",
        "colab_type": "text"
      },
      "source": [
        "<a href=\"https://colab.research.google.com/github/barassah/FakeReviews/blob/main/Using_pseudo_labeling.ipynb\" target=\"_parent\"><img src=\"https://colab.research.google.com/assets/colab-badge.svg\" alt=\"Open In Colab\"/></a>"
      ]
    },
    {
      "source": [
        "# IMPORTANT: RUN THIS CELL IN ORDER TO IMPORT YOUR KAGGLE DATA SOURCES,\n",
        "# THEN FEEL FREE TO DELETE THIS CELL.\n",
        "# NOTE: THIS NOTEBOOK ENVIRONMENT DIFFERS FROM KAGGLE'S PYTHON\n",
        "# ENVIRONMENT SO THERE MAY BE MISSING LIBRARIES USED BY YOUR\n",
        "# NOTEBOOK.\n",
        "import kagglehub\n",
        "yacharki_yelp_reviews_for_sa_finegrained_5_classes_csv_path = kagglehub.dataset_download('yacharki/yelp-reviews-for-sa-finegrained-5-classes-csv')\n",
        "\n",
        "print('Data source import complete.')\n"
      ],
      "metadata": {
        "id": "iTBN4iiZmvqb",
        "outputId": "817a0931-af76-452c-ad77-8808cf4fb3bd",
        "colab": {
          "base_uri": "https://localhost:8080/"
        }
      },
      "cell_type": "code",
      "outputs": [
        {
          "output_type": "stream",
          "name": "stdout",
          "text": [
            "Warning: Looks like you're using an outdated `kagglehub` version (installed: 0.3.7), please consider upgrading to the latest version (0.3.8).\n",
            "Downloading from https://www.kaggle.com/api/v1/datasets/download/yacharki/yelp-reviews-for-sa-finegrained-5-classes-csv?dataset_version_number=14...\n"
          ]
        },
        {
          "output_type": "stream",
          "name": "stderr",
          "text": [
            "100%|██████████| 191M/191M [00:10<00:00, 18.5MB/s]"
          ]
        },
        {
          "output_type": "stream",
          "name": "stdout",
          "text": [
            "Extracting files...\n"
          ]
        },
        {
          "output_type": "stream",
          "name": "stderr",
          "text": [
            "\n"
          ]
        },
        {
          "output_type": "stream",
          "name": "stdout",
          "text": [
            "Data source import complete.\n"
          ]
        }
      ],
      "execution_count": 1
    },
    {
      "cell_type": "code",
      "source": [
        "from google.colab import files\n",
        "uploaded = files.upload()"
      ],
      "metadata": {
        "_uuid": "8f2839f25d086af736a60e9eeb907d3b93b6e0e5",
        "_cell_guid": "b1076dfc-b9ad-4769-8c92-a6c4dae69d19",
        "trusted": true,
        "execution": {
          "iopub.status.busy": "2025-02-17T02:57:54.728419Z",
          "iopub.execute_input": "2025-02-17T02:57:54.728604Z",
          "iopub.status.idle": "2025-02-17T02:57:58.058942Z",
          "shell.execute_reply.started": "2025-02-17T02:57:54.728582Z",
          "shell.execute_reply": "2025-02-17T02:57:58.05709Z"
        },
        "id": "Ip_4sSJdmvqe",
        "outputId": "af9e7a45-5e39-4a58-e1c9-2bb73b11a523",
        "colab": {
          "base_uri": "https://localhost:8080/",
          "height": 74
        }
      },
      "outputs": [
        {
          "output_type": "display_data",
          "data": {
            "text/plain": [
              "<IPython.core.display.HTML object>"
            ],
            "text/html": [
              "\n",
              "     <input type=\"file\" id=\"files-b89e7b99-0d4b-47f6-a1a1-4b6537a55631\" name=\"files[]\" multiple disabled\n",
              "        style=\"border:none\" />\n",
              "     <output id=\"result-b89e7b99-0d4b-47f6-a1a1-4b6537a55631\">\n",
              "      Upload widget is only available when the cell has been executed in the\n",
              "      current browser session. Please rerun this cell to enable.\n",
              "      </output>\n",
              "      <script>// Copyright 2017 Google LLC\n",
              "//\n",
              "// Licensed under the Apache License, Version 2.0 (the \"License\");\n",
              "// you may not use this file except in compliance with the License.\n",
              "// You may obtain a copy of the License at\n",
              "//\n",
              "//      http://www.apache.org/licenses/LICENSE-2.0\n",
              "//\n",
              "// Unless required by applicable law or agreed to in writing, software\n",
              "// distributed under the License is distributed on an \"AS IS\" BASIS,\n",
              "// WITHOUT WARRANTIES OR CONDITIONS OF ANY KIND, either express or implied.\n",
              "// See the License for the specific language governing permissions and\n",
              "// limitations under the License.\n",
              "\n",
              "/**\n",
              " * @fileoverview Helpers for google.colab Python module.\n",
              " */\n",
              "(function(scope) {\n",
              "function span(text, styleAttributes = {}) {\n",
              "  const element = document.createElement('span');\n",
              "  element.textContent = text;\n",
              "  for (const key of Object.keys(styleAttributes)) {\n",
              "    element.style[key] = styleAttributes[key];\n",
              "  }\n",
              "  return element;\n",
              "}\n",
              "\n",
              "// Max number of bytes which will be uploaded at a time.\n",
              "const MAX_PAYLOAD_SIZE = 100 * 1024;\n",
              "\n",
              "function _uploadFiles(inputId, outputId) {\n",
              "  const steps = uploadFilesStep(inputId, outputId);\n",
              "  const outputElement = document.getElementById(outputId);\n",
              "  // Cache steps on the outputElement to make it available for the next call\n",
              "  // to uploadFilesContinue from Python.\n",
              "  outputElement.steps = steps;\n",
              "\n",
              "  return _uploadFilesContinue(outputId);\n",
              "}\n",
              "\n",
              "// This is roughly an async generator (not supported in the browser yet),\n",
              "// where there are multiple asynchronous steps and the Python side is going\n",
              "// to poll for completion of each step.\n",
              "// This uses a Promise to block the python side on completion of each step,\n",
              "// then passes the result of the previous step as the input to the next step.\n",
              "function _uploadFilesContinue(outputId) {\n",
              "  const outputElement = document.getElementById(outputId);\n",
              "  const steps = outputElement.steps;\n",
              "\n",
              "  const next = steps.next(outputElement.lastPromiseValue);\n",
              "  return Promise.resolve(next.value.promise).then((value) => {\n",
              "    // Cache the last promise value to make it available to the next\n",
              "    // step of the generator.\n",
              "    outputElement.lastPromiseValue = value;\n",
              "    return next.value.response;\n",
              "  });\n",
              "}\n",
              "\n",
              "/**\n",
              " * Generator function which is called between each async step of the upload\n",
              " * process.\n",
              " * @param {string} inputId Element ID of the input file picker element.\n",
              " * @param {string} outputId Element ID of the output display.\n",
              " * @return {!Iterable<!Object>} Iterable of next steps.\n",
              " */\n",
              "function* uploadFilesStep(inputId, outputId) {\n",
              "  const inputElement = document.getElementById(inputId);\n",
              "  inputElement.disabled = false;\n",
              "\n",
              "  const outputElement = document.getElementById(outputId);\n",
              "  outputElement.innerHTML = '';\n",
              "\n",
              "  const pickedPromise = new Promise((resolve) => {\n",
              "    inputElement.addEventListener('change', (e) => {\n",
              "      resolve(e.target.files);\n",
              "    });\n",
              "  });\n",
              "\n",
              "  const cancel = document.createElement('button');\n",
              "  inputElement.parentElement.appendChild(cancel);\n",
              "  cancel.textContent = 'Cancel upload';\n",
              "  const cancelPromise = new Promise((resolve) => {\n",
              "    cancel.onclick = () => {\n",
              "      resolve(null);\n",
              "    };\n",
              "  });\n",
              "\n",
              "  // Wait for the user to pick the files.\n",
              "  const files = yield {\n",
              "    promise: Promise.race([pickedPromise, cancelPromise]),\n",
              "    response: {\n",
              "      action: 'starting',\n",
              "    }\n",
              "  };\n",
              "\n",
              "  cancel.remove();\n",
              "\n",
              "  // Disable the input element since further picks are not allowed.\n",
              "  inputElement.disabled = true;\n",
              "\n",
              "  if (!files) {\n",
              "    return {\n",
              "      response: {\n",
              "        action: 'complete',\n",
              "      }\n",
              "    };\n",
              "  }\n",
              "\n",
              "  for (const file of files) {\n",
              "    const li = document.createElement('li');\n",
              "    li.append(span(file.name, {fontWeight: 'bold'}));\n",
              "    li.append(span(\n",
              "        `(${file.type || 'n/a'}) - ${file.size} bytes, ` +\n",
              "        `last modified: ${\n",
              "            file.lastModifiedDate ? file.lastModifiedDate.toLocaleDateString() :\n",
              "                                    'n/a'} - `));\n",
              "    const percent = span('0% done');\n",
              "    li.appendChild(percent);\n",
              "\n",
              "    outputElement.appendChild(li);\n",
              "\n",
              "    const fileDataPromise = new Promise((resolve) => {\n",
              "      const reader = new FileReader();\n",
              "      reader.onload = (e) => {\n",
              "        resolve(e.target.result);\n",
              "      };\n",
              "      reader.readAsArrayBuffer(file);\n",
              "    });\n",
              "    // Wait for the data to be ready.\n",
              "    let fileData = yield {\n",
              "      promise: fileDataPromise,\n",
              "      response: {\n",
              "        action: 'continue',\n",
              "      }\n",
              "    };\n",
              "\n",
              "    // Use a chunked sending to avoid message size limits. See b/62115660.\n",
              "    let position = 0;\n",
              "    do {\n",
              "      const length = Math.min(fileData.byteLength - position, MAX_PAYLOAD_SIZE);\n",
              "      const chunk = new Uint8Array(fileData, position, length);\n",
              "      position += length;\n",
              "\n",
              "      const base64 = btoa(String.fromCharCode.apply(null, chunk));\n",
              "      yield {\n",
              "        response: {\n",
              "          action: 'append',\n",
              "          file: file.name,\n",
              "          data: base64,\n",
              "        },\n",
              "      };\n",
              "\n",
              "      let percentDone = fileData.byteLength === 0 ?\n",
              "          100 :\n",
              "          Math.round((position / fileData.byteLength) * 100);\n",
              "      percent.textContent = `${percentDone}% done`;\n",
              "\n",
              "    } while (position < fileData.byteLength);\n",
              "  }\n",
              "\n",
              "  // All done.\n",
              "  yield {\n",
              "    response: {\n",
              "      action: 'complete',\n",
              "    }\n",
              "  };\n",
              "}\n",
              "\n",
              "scope.google = scope.google || {};\n",
              "scope.google.colab = scope.google.colab || {};\n",
              "scope.google.colab._files = {\n",
              "  _uploadFiles,\n",
              "  _uploadFilesContinue,\n",
              "};\n",
              "})(self);\n",
              "</script> "
            ]
          },
          "metadata": {}
        },
        {
          "output_type": "stream",
          "name": "stdout",
          "text": [
            "Saving train.csv to train.csv\n"
          ]
        }
      ],
      "execution_count": 6
    },
    {
      "cell_type": "code",
      "source": [
        "#Loading important Libraries\n",
        "import numpy as np\n",
        "import pandas as pd\n",
        "import re\n",
        "from sklearn.feature_extraction.text import TfidfVectorizer\n",
        "from sklearn.ensemble import RandomForestClassifier\n",
        "from sklearn.model_selection import train_test_split\n",
        "from sklearn.metrics import accuracy_score\n",
        "#from textblob import TextBlob"
      ],
      "metadata": {
        "trusted": true,
        "execution": {
          "iopub.status.busy": "2025-02-17T02:58:58.951143Z",
          "iopub.execute_input": "2025-02-17T02:58:58.951601Z",
          "iopub.status.idle": "2025-02-17T02:58:58.956043Z",
          "shell.execute_reply.started": "2025-02-17T02:58:58.951571Z",
          "shell.execute_reply": "2025-02-17T02:58:58.95506Z"
        },
        "id": "TGaHkC-imvqh"
      },
      "outputs": [],
      "execution_count": 3
    },
    {
      "cell_type": "code",
      "source": [
        "#loading the data file\n",
        "dataset=pd.read_csv(\"train.csv\", encoding='ISO-8859-1')\n",
        "print(dataset)\n"
      ],
      "metadata": {
        "trusted": true,
        "execution": {
          "iopub.status.busy": "2025-02-17T02:59:02.668564Z",
          "iopub.execute_input": "2025-02-17T02:59:02.669323Z",
          "iopub.status.idle": "2025-02-17T02:59:19.615809Z",
          "shell.execute_reply.started": "2025-02-17T02:59:02.669249Z",
          "shell.execute_reply": "2025-02-17T02:59:19.614459Z"
        },
        "id": "amUUfLJ3mvqk",
        "outputId": "e36e48ec-9e36-4d65-8854-7f49b88e7ad6",
        "colab": {
          "base_uri": "https://localhost:8080/"
        }
      },
      "outputs": [
        {
          "output_type": "stream",
          "name": "stdout",
          "text": [
            "        class_index                                        review_text\n",
            "0                 5  dr. goldberg offers everything i look for in a...\n",
            "1                 2  Unfortunately, the frustration of being Dr. Go...\n",
            "2                 4  Been going to Dr. Goldberg for over 10 years. ...\n",
            "3                 4  Got a letter in the mail last week that said D...\n",
            "4                 1  I don't know what Dr. Goldberg was like before...\n",
            "...             ...                                                ...\n",
            "649995            5  I had a sprinkler that was gushing... pipe bro...\n",
            "649996            1  Phone calls always go to voicemail and message...\n",
            "649997            1  Looks like all of the good reviews have gone t...\n",
            "649998            5  I was able to once again rely on Yelp to provi...\n",
            "649999            1  I have been using this company for 11 months. ...\n",
            "\n",
            "[650000 rows x 2 columns]\n"
          ]
        }
      ],
      "execution_count": 7
    },
    {
      "cell_type": "code",
      "source": [
        "# Getting the shape of the dataset\n",
        "dataset.shape"
      ],
      "metadata": {
        "trusted": true,
        "execution": {
          "iopub.status.busy": "2025-02-17T02:59:22.719414Z",
          "iopub.execute_input": "2025-02-17T02:59:22.719815Z",
          "iopub.status.idle": "2025-02-17T02:59:22.728131Z",
          "shell.execute_reply.started": "2025-02-17T02:59:22.719784Z",
          "shell.execute_reply": "2025-02-17T02:59:22.726718Z"
        },
        "id": "cQlNKim2mvql",
        "outputId": "66eeec98-c4df-4afc-f02d-1ba61aede757",
        "colab": {
          "base_uri": "https://localhost:8080/"
        }
      },
      "outputs": [
        {
          "output_type": "execute_result",
          "data": {
            "text/plain": [
              "(650000, 2)"
            ]
          },
          "metadata": {},
          "execution_count": 8
        }
      ],
      "execution_count": 8
    },
    {
      "cell_type": "code",
      "source": [
        "#Define the columns\n",
        "dataset.columns"
      ],
      "metadata": {
        "trusted": true,
        "execution": {
          "iopub.status.busy": "2025-02-17T02:59:23.310742Z",
          "iopub.execute_input": "2025-02-17T02:59:23.31115Z",
          "iopub.status.idle": "2025-02-17T02:59:23.317021Z",
          "shell.execute_reply.started": "2025-02-17T02:59:23.311121Z",
          "shell.execute_reply": "2025-02-17T02:59:23.315974Z"
        },
        "id": "FCtIN1sbmvqn",
        "outputId": "d35876d2-d095-4118-9d49-bcb0b1db9c47",
        "colab": {
          "base_uri": "https://localhost:8080/"
        }
      },
      "outputs": [
        {
          "output_type": "execute_result",
          "data": {
            "text/plain": [
              "Index(['class_index', 'review_text'], dtype='object')"
            ]
          },
          "metadata": {},
          "execution_count": 9
        }
      ],
      "execution_count": 9
    },
    {
      "cell_type": "code",
      "source": [
        "dataset = dataset[['review_text']]  # Keep only text column\n",
        "print(dataset)"
      ],
      "metadata": {
        "trusted": true,
        "execution": {
          "iopub.status.busy": "2025-02-17T02:59:23.955532Z",
          "iopub.execute_input": "2025-02-17T02:59:23.955906Z",
          "iopub.status.idle": "2025-02-17T02:59:24.003286Z",
          "shell.execute_reply.started": "2025-02-17T02:59:23.955879Z",
          "shell.execute_reply": "2025-02-17T02:59:24.002089Z"
        },
        "id": "43OpWdmemvqn",
        "outputId": "845bc376-2141-4bad-9166-fbc78b52843b",
        "colab": {
          "base_uri": "https://localhost:8080/"
        }
      },
      "outputs": [
        {
          "output_type": "stream",
          "name": "stdout",
          "text": [
            "                                              review_text\n",
            "0       dr. goldberg offers everything i look for in a...\n",
            "1       Unfortunately, the frustration of being Dr. Go...\n",
            "2       Been going to Dr. Goldberg for over 10 years. ...\n",
            "3       Got a letter in the mail last week that said D...\n",
            "4       I don't know what Dr. Goldberg was like before...\n",
            "...                                                   ...\n",
            "649995  I had a sprinkler that was gushing... pipe bro...\n",
            "649996  Phone calls always go to voicemail and message...\n",
            "649997  Looks like all of the good reviews have gone t...\n",
            "649998  I was able to once again rely on Yelp to provi...\n",
            "649999  I have been using this company for 11 months. ...\n",
            "\n",
            "[650000 rows x 1 columns]\n"
          ]
        }
      ],
      "execution_count": 10
    },
    {
      "cell_type": "code",
      "source": [
        "# Download NLTK stopwords\n",
        "import nltk\n",
        "nltk.download('stopwords')\n",
        "from nltk.corpus import stopwords"
      ],
      "metadata": {
        "trusted": true,
        "execution": {
          "iopub.status.busy": "2025-02-17T06:12:13.831722Z",
          "iopub.execute_input": "2025-02-17T06:12:13.832019Z",
          "iopub.status.idle": "2025-02-17T06:12:13.847714Z",
          "shell.execute_reply.started": "2025-02-17T06:12:13.831994Z",
          "shell.execute_reply": "2025-02-17T06:12:13.846846Z"
        },
        "id": "R-wccKCjmvqo",
        "outputId": "ec1f5f8b-5c11-4471-8813-fd587ab922e5",
        "colab": {
          "base_uri": "https://localhost:8080/"
        }
      },
      "outputs": [
        {
          "output_type": "stream",
          "name": "stderr",
          "text": [
            "[nltk_data] Downloading package stopwords to /root/nltk_data...\n",
            "[nltk_data]   Unzipping corpora/stopwords.zip.\n"
          ]
        }
      ],
      "execution_count": 11
    },
    {
      "cell_type": "code",
      "source": [
        "# Text cleaning function\n",
        "def clean_text(text):\n",
        "    text = text.lower()\n",
        "    # Modified regex to preserve words like \"can't\" and \"don't\"\n",
        "    text = re.sub(r'[^\\w\\s]+', ' ', text) # remove punctuation but keep letters, numbers, and spaces\n",
        "    text = ' '.join([word for word in text.split() if word not in stopwords.words('english')])\n",
        "    return textn,hj\n",
        "\n",
        "# Apply text cleaning\n",
        "dataset['review_text'] = dataset['review_text'].apply(clean_text)\n"
      ],
      "metadata": {
        "trusted": true,
        "execution": {
          "iopub.status.busy": "2025-02-17T06:11:39.717507Z",
          "iopub.execute_input": "2025-02-17T06:11:39.717822Z",
          "iopub.status.idle": "2025-02-17T06:11:39.737994Z",
          "shell.execute_reply.started": "2025-02-17T06:11:39.717797Z",
          "shell.execute_reply": "2025-02-17T06:11:39.736724Z"
        },
        "id": "vDTOiXsymvqp"
      },
      "outputs": [],
      "execution_count": null
    },
    {
      "cell_type": "code",
      "source": [
        "# Convert text into numerical features\n",
        "vectorizer = TfidfVectorizer(max_features=5000)\n",
        "X_textual = vectorizer.fit_transform(dataset['review_text'])"
      ],
      "metadata": {
        "trusted": true,
        "execution": {
          "iopub.status.busy": "2025-02-17T02:59:27.418878Z",
          "iopub.execute_input": "2025-02-17T02:59:27.41932Z",
          "iopub.status.idle": "2025-02-17T03:00:28.300418Z",
          "shell.execute_reply.started": "2025-02-17T02:59:27.41927Z",
          "shell.execute_reply": "2025-02-17T03:00:28.298926Z"
        },
        "id": "pSpEo-tOmvqq",
        "outputId": "46e63293-4d20-4048-9a5c-61114c65d550",
        "colab": {
          "base_uri": "https://localhost:8080/",
          "height": 179
        }
      },
      "outputs": [
        {
          "output_type": "error",
          "ename": "NameError",
          "evalue": "name 'TfidfVectorizer' is not defined",
          "traceback": [
            "\u001b[0;31m---------------------------------------------------------------------------\u001b[0m",
            "\u001b[0;31mNameError\u001b[0m                                 Traceback (most recent call last)",
            "\u001b[0;32m<ipython-input-1-1868c157b1ff>\u001b[0m in \u001b[0;36m<cell line: 0>\u001b[0;34m()\u001b[0m\n\u001b[1;32m      1\u001b[0m \u001b[0;31m# Convert text into numerical features\u001b[0m\u001b[0;34m\u001b[0m\u001b[0;34m\u001b[0m\u001b[0m\n\u001b[0;32m----> 2\u001b[0;31m \u001b[0mvectorizer\u001b[0m \u001b[0;34m=\u001b[0m \u001b[0mTfidfVectorizer\u001b[0m\u001b[0;34m(\u001b[0m\u001b[0mmax_features\u001b[0m\u001b[0;34m=\u001b[0m\u001b[0;36m5000\u001b[0m\u001b[0;34m)\u001b[0m\u001b[0;34m\u001b[0m\u001b[0;34m\u001b[0m\u001b[0m\n\u001b[0m\u001b[1;32m      3\u001b[0m \u001b[0mX_textual\u001b[0m \u001b[0;34m=\u001b[0m \u001b[0mvectorizer\u001b[0m\u001b[0;34m.\u001b[0m\u001b[0mfit_transform\u001b[0m\u001b[0;34m(\u001b[0m\u001b[0mdataset\u001b[0m\u001b[0;34m[\u001b[0m\u001b[0;34m'review_text'\u001b[0m\u001b[0;34m]\u001b[0m\u001b[0;34m)\u001b[0m\u001b[0;34m\u001b[0m\u001b[0;34m\u001b[0m\u001b[0m\n",
            "\u001b[0;31mNameError\u001b[0m: name 'TfidfVectorizer' is not defined"
          ]
        }
      ],
      "execution_count": 1
    },
    {
      "cell_type": "code",
      "source": [
        "# Cluster into 2 groups (fake vs genuine)\n",
        "from sklearn.cluster import KMeans\n",
        "kmeans = KMeans(n_clusters=2, random_state=42, n_init=10)\n",
        "pseudo_labels = kmeans.fit_predict(X_textual)\n",
        "\n",
        "# Add pseudo-labels to the dataset\n",
        "dataset['label'] = pseudo_labels\n",
        "print(dataset)"
      ],
      "metadata": {
        "trusted": true,
        "execution": {
          "iopub.status.busy": "2025-02-17T03:00:28.301585Z",
          "iopub.execute_input": "2025-02-17T03:00:28.301854Z",
          "iopub.status.idle": "2025-02-17T03:00:28.32666Z",
          "shell.execute_reply.started": "2025-02-17T03:00:28.301828Z",
          "shell.execute_reply": "2025-02-17T03:00:28.325034Z"
        },
        "id": "RrieBzFumvqq",
        "outputId": "ebdba1df-f878-42bc-c454-54ea049fb7c7"
      },
      "outputs": [
        {
          "traceback": [
            "\u001b[0;31m---------------------------------------------------------------------------\u001b[0m",
            "\u001b[0;31mNameError\u001b[0m                                 Traceback (most recent call last)",
            "Cell \u001b[0;32mIn[12], line 2\u001b[0m\n\u001b[1;32m      1\u001b[0m \u001b[38;5;66;03m# Cluster into 2 groups (fake vs genuine)\u001b[39;00m\n\u001b[0;32m----> 2\u001b[0m kmeans \u001b[38;5;241m=\u001b[39m \u001b[43mKMeans\u001b[49m(n_clusters\u001b[38;5;241m=\u001b[39m\u001b[38;5;241m2\u001b[39m, random_state\u001b[38;5;241m=\u001b[39m\u001b[38;5;241m42\u001b[39m, n_init\u001b[38;5;241m=\u001b[39m\u001b[38;5;241m10\u001b[39m)\n\u001b[1;32m      3\u001b[0m pseudo_labels \u001b[38;5;241m=\u001b[39m kmeans\u001b[38;5;241m.\u001b[39mfit_predict(X_textual)\n\u001b[1;32m      5\u001b[0m \u001b[38;5;66;03m# Add pseudo-labels to the dataset\u001b[39;00m\n",
            "\u001b[0;31mNameError\u001b[0m: name 'KMeans' is not defined"
          ],
          "ename": "NameError",
          "evalue": "name 'KMeans' is not defined",
          "output_type": "error"
        }
      ],
      "execution_count": null
    },
    {
      "cell_type": "code",
      "source": [
        "# Extract linguistic features (Punctuation count and Sentiment score)\n",
        "def extract_linguistic_features(text):\n",
        "    punctuation_count = len(re.findall(r'[!?.]', text))\n",
        "    sentiment_score = TextBlob(text).sentiment.polarity\n",
        "    return [punctuation_count, sentiment_score]\n",
        "\n",
        "\n",
        "X_linguistic = np.array([extract_linguistic_features(review) for review in dataset['review_text']])\n"
      ],
      "metadata": {
        "trusted": true,
        "execution": {
          "iopub.status.busy": "2025-02-17T02:58:02.33864Z",
          "iopub.status.idle": "2025-02-17T02:58:02.339053Z",
          "shell.execute_reply.started": "2025-02-17T02:58:02.338803Z",
          "shell.execute_reply": "2025-02-17T02:58:02.338843Z"
        },
        "id": "cROLqZJamvqs"
      },
      "outputs": [],
      "execution_count": null
    },
    {
      "cell_type": "code",
      "source": [
        "# Combine textual and linguistic features\n",
        "X_combined = np.hstack((X_textual.toarray(), X_linguistic)"
      ],
      "metadata": {
        "trusted": true,
        "execution": {
          "iopub.status.busy": "2025-02-17T02:58:02.340036Z",
          "iopub.status.idle": "2025-02-17T02:58:02.340421Z",
          "shell.execute_reply.started": "2025-02-17T02:58:02.34017Z",
          "shell.execute_reply": "2025-02-17T02:58:02.340208Z"
        },
        "id": "NFtm1sGimvqs"
      },
      "outputs": [],
      "execution_count": null
    },
    {
      "cell_type": "code",
      "source": [
        "# Split dataset into training and testing\n",
        "X_train, X_test, y_train, y_test = train_test_split(X_combined, pseudo_labels, test_size=0.2, random_state=42)\n"
      ],
      "metadata": {
        "trusted": true,
        "execution": {
          "iopub.status.busy": "2025-02-17T02:58:02.341483Z",
          "iopub.status.idle": "2025-02-17T02:58:02.341895Z",
          "shell.execute_reply.started": "2025-02-17T02:58:02.341645Z",
          "shell.execute_reply": "2025-02-17T02:58:02.341689Z"
        },
        "id": "WxFasefCmvqt"
      },
      "outputs": [],
      "execution_count": null
    },
    {
      "cell_type": "code",
      "source": [
        "nb = MultinomialNB()\n",
        "nb.fit(X_train, y_train)\n",
        "nb_preds = nb.predict(X_test)\n",
        "print(\"Naïve Bayes Accuracy:\", accuracy_score(y_test, nb_preds))\n"
      ],
      "metadata": {
        "trusted": true,
        "execution": {
          "iopub.status.busy": "2025-02-17T02:58:02.343191Z",
          "iopub.status.idle": "2025-02-17T02:58:02.343904Z",
          "shell.execute_reply.started": "2025-02-17T02:58:02.34344Z",
          "shell.execute_reply": "2025-02-17T02:58:02.343487Z"
        },
        "id": "lTjdc4E0mvqt"
      },
      "outputs": [],
      "execution_count": null
    },
    {
      "cell_type": "code",
      "source": [
        "rf = RandomForestClassifier(n_estimators=100, random_state=42)\n",
        "rf.fit(X_train, y_train)\n",
        "rf_preds = rf.predict(X_test)\n",
        "print(\"Random Forest Accuracy:\", accuracy_score(y_test, rf_preds))\n"
      ],
      "metadata": {
        "trusted": true,
        "execution": {
          "iopub.status.busy": "2025-02-17T02:58:02.344616Z",
          "iopub.status.idle": "2025-02-17T02:58:02.345208Z",
          "shell.execute_reply.started": "2025-02-17T02:58:02.34475Z",
          "shell.execute_reply": "2025-02-17T02:58:02.344788Z"
        },
        "id": "_p9EpFOSmvqt"
      },
      "outputs": [],
      "execution_count": null
    },
    {
      "cell_type": "code",
      "source": [
        "lr = LogisticRegression()\n",
        "lr.fit(X_train, y_train)\n",
        "lr_preds = lr.predict(X_test)\n",
        "print(\"Logistic Regression Accuracy:\", accuracy_score(y_test, lr_preds))\n"
      ],
      "metadata": {
        "trusted": true,
        "execution": {
          "iopub.status.busy": "2025-02-17T02:58:02.347291Z",
          "iopub.status.idle": "2025-02-17T02:58:02.348242Z",
          "shell.execute_reply.started": "2025-02-17T02:58:02.347905Z",
          "shell.execute_reply": "2025-02-17T02:58:02.347952Z"
        },
        "id": "a_EJ92Yrmvqt"
      },
      "outputs": [],
      "execution_count": null
    },
    {
      "cell_type": "code",
      "source": [
        "svm = SVC(kernel='linear')\n",
        "svm.fit(X_train, y_train)\n",
        "svm_preds = svm.predict(X_test)\n",
        "print(\"SVM Accuracy:\", accuracy_score(y_test, svm_preds))\n"
      ],
      "metadata": {
        "trusted": true,
        "execution": {
          "iopub.status.busy": "2025-02-17T02:58:02.349392Z",
          "iopub.status.idle": "2025-02-17T02:58:02.35026Z",
          "shell.execute_reply.started": "2025-02-17T02:58:02.349689Z",
          "shell.execute_reply": "2025-02-17T02:58:02.349735Z"
        },
        "id": "qMpjMoz_mvqu"
      },
      "outputs": [],
      "execution_count": null
    },
    {
      "cell_type": "code",
      "source": [
        "# Print classification reports\n",
        "print(\"SVM:\\n\", classification_report(y_test, svm_preds))\n",
        "print(\"Naïve Bayes:\\n\", classification_report(y_test, nb_preds))\n",
        "print(\"Random Forest:\\n\", classification_report(y_test, rf_preds))\n",
        "print(\"Logistic Regression:\\n\", classification_report(y_test, lr_preds))\n"
      ],
      "metadata": {
        "trusted": true,
        "execution": {
          "iopub.status.busy": "2025-02-17T02:58:02.351306Z",
          "iopub.status.idle": "2025-02-17T02:58:02.352125Z",
          "shell.execute_reply.started": "2025-02-17T02:58:02.351899Z",
          "shell.execute_reply": "2025-02-17T02:58:02.35195Z"
        },
        "id": "U8t3KGZemvqu"
      },
      "outputs": [],
      "execution_count": null
    }
  ]
}